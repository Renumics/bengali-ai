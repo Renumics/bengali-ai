{
 "cells": [
  {
   "cell_type": "markdown",
   "metadata": {},
   "source": [
    "# Interactive Visualization, Features, Embeddings"
   ]
  },
  {
   "cell_type": "markdown",
   "metadata": {},
   "source": [
    "![Spotlight](https://github.com/Renumics/sliceguard/blob/main/static/img/bengaliai_spotlight.png?raw=true)"
   ]
  },
  {
   "cell_type": "markdown",
   "metadata": {},
   "source": [
    "This notebook provides you with two resources that can help you to suceed in this competition:\n",
    "1. An **enriched dataset version** containing **audio features, as well as audio- and text embeddings**\n",
    "2. Code for **interactive exploration** in the data curation tool [Spotlight](https://github.com/Renumics/spotlight) to conduct your own **EDA and Evaluation**\n",
    "\n",
    "Note that in order for the interactive exploration to work you should **RUN THIS LOCALLY**, not in the kaggle environment.\n",
    "\n",
    "The dataset contains the following columns:\n",
    "* *audio_length_s*: Length of the audio file in seconds\n",
    "* *audio_rms_max*: Maximum signal energy of the sample\n",
    "* *audio_rms_mean*: Mean signal energy of the sample\n",
    "* *audio_rms_std*: Maximum signal energy standard deviation\n",
    "* *audio_spectral_flatness_mean*: Audio spectral flatness mean\n",
    "* *audio_embedding*: Audio embeddings computed using embedding model trained on Audioset\n",
    "* *text_embedding*: Multilingual text embeddings"
   ]
  },
  {
   "cell_type": "code",
   "execution_count": null,
   "metadata": {},
   "outputs": [],
   "source": [
    "# IMPORTANT (!): Change this if you are executing this locally for interactive exploration.\n",
    "# Set your directory containing the train.csv file\n",
    "INPUT_DIR = \"/kaggle/input/bengaliai-speech\""
   ]
  },
  {
   "cell_type": "code",
   "execution_count": null,
   "metadata": {},
   "outputs": [],
   "source": [
    "# Install these dependencies to get and view the enriched dataset\n",
    "!pip install -U pandas datasets renumics-spotlight==1.3.0rc6"
   ]
  },
  {
   "cell_type": "code",
   "execution_count": null,
   "metadata": {},
   "outputs": [],
   "source": [
    "# All imports\n",
    "from pathlib import Path\n",
    "import pandas as pd\n",
    "import datasets\n",
    "from renumics import spotlight\n",
    "from renumics.spotlight import Audio, Embedding"
   ]
  },
  {
   "cell_type": "code",
   "execution_count": null,
   "metadata": {},
   "outputs": [],
   "source": [
    "# Load the raw data from your machine\n",
    "df = pd.read_csv(Path(INPUT_DIR) / \"train.csv\")\n",
    "\n",
    "# Pull features and embeddings from huggingface dataset hub\n",
    "dataset = datasets.load_dataset(\"renumics/bengaliai-competition-features-embeddings\")\n",
    "feature_df = dataset[\"train\"].to_pandas()\n",
    "\n",
    "# Merge the two datasets\n",
    "additional_columns = feature_df.columns.difference(df.columns).tolist() + [\"id\"]\n",
    "df = pd.merge(df, feature_df[additional_columns], on='id')\n",
    "if not INPUT_DIR.endswith(\"/\"):\n",
    "    INPUT_DIR = INPUT_DIR + \"/\"\n",
    "df[\"audio\"] = INPUT_DIR + df[\"audio\"]"
   ]
  },
  {
   "cell_type": "code",
   "execution_count": null,
   "metadata": {},
   "outputs": [],
   "source": [
    "# Display the dataframe containing additional features and embeddings\n",
    "df"
   ]
  },
  {
   "cell_type": "code",
   "execution_count": null,
   "metadata": {},
   "outputs": [],
   "source": [
    "# Open the dataset for interactive exploration (Subsampled to 5000 samples)\n",
    "spotlight.show(df.sample(5000), dtype={\"audio\": Audio, \"audio_embedding\": Embedding, \"text_embedding\": Embedding})"
   ]
  },
  {
   "cell_type": "markdown",
   "metadata": {},
   "source": [
    "**[Docs for the Exploration Tool on Github](https://github.com/Renumics/spotlight)**"
   ]
  },
  {
   "cell_type": "code",
   "execution_count": null,
   "metadata": {},
   "outputs": [],
   "source": []
  }
 ],
 "metadata": {
  "kernelspec": {
   "display_name": "Python 3 (ipykernel)",
   "language": "python",
   "name": "python3"
  },
  "language_info": {
   "codemirror_mode": {
    "name": "ipython",
    "version": 3
   },
   "file_extension": ".py",
   "mimetype": "text/x-python",
   "name": "python",
   "nbconvert_exporter": "python",
   "pygments_lexer": "ipython3",
   "version": "3.10.12"
  }
 },
 "nbformat": 4,
 "nbformat_minor": 4
}
